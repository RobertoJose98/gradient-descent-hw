{
  "cells": [
    {
      "cell_type": "markdown",
      "metadata": {
        "id": "LlUvdJBiUGEb"
      },
      "source": [
        "# Homework 0\n",
        "\n",
        "**Name:** -- Roberto José González --\n",
        "\n",
        "**e-mail:** -- roberto.jose0745@alumnos.udg.mx --"
      ]
    },
    {
      "cell_type": "markdown",
      "metadata": {
        "id": "5GsD8XUcUGEe"
      },
      "source": [
        "# Modules"
      ]
    },
    {
      "cell_type": "code",
      "execution_count": 1,
      "metadata": {
        "id": "50jI8nsnUGEf"
      },
      "outputs": [],
      "source": [
        "# Load modules\n",
        "import numpy as np\n",
        "import matplotlib.pyplot as plt"
      ]
    },
    {
      "cell_type": "markdown",
      "metadata": {
        "id": "FSH5PpPpUGEg"
      },
      "source": [
        "# Theory on the Gradient Descent algorithm\n",
        "\n",
        "Gradient Descent is an optimization algorithm used to find the local minimum of a function by iteratively moving in the direction of the negative gradient. The update rule is:\n",
        "\n",
        "$$\n",
        "x_{t+1} = x_t - \\alpha \\frac{\\partial f}{\\partial x}, \\quad y_{t+1} = y_t - \\alpha \\frac{\\partial f}{\\partial y}\n",
        "$$\n",
        "\n",
        "where:\n",
        "- \\$ (x_t, y_t) \\$ is the current position,\n",
        "- \\$\\alpha \\$ is the learning rate,\n",
        "- \\$ \\frac{\\partial f}{\\partial x}, \\frac{\\partial f}{\\partial y} \\$ are the partial derivatives.\n",
        "\n",
        "The algorithm stops when the change in function value is very small or after a set number of iterations.\n",
        "\n"
      ]
    },
    {
      "cell_type": "code",
      "execution_count": null,
      "metadata": {
        "id": "e_LPKHbuUGEg"
      },
      "outputs": [],
      "source": [
        "# Function to be optimized\n"
      ]
    },
    {
      "cell_type": "code",
      "execution_count": null,
      "metadata": {
        "id": "nP3sKeoDUGEg"
      },
      "outputs": [],
      "source": [
        "# Run gradient descent algorithm"
      ]
    },
    {
      "cell_type": "code",
      "execution_count": null,
      "metadata": {
        "id": "iEG3NUMHUGEh"
      },
      "outputs": [],
      "source": [
        "# Plot the results"
      ]
    }
  ],
  "metadata": {
    "language_info": {
      "name": "python"
    },
    "colab": {
      "provenance": []
    },
    "kernelspec": {
      "name": "python3",
      "display_name": "Python 3"
    }
  },
  "nbformat": 4,
  "nbformat_minor": 0
}